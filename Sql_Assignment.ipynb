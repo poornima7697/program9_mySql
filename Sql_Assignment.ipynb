{
 "cells": [
  {
   "cell_type": "markdown",
   "id": "b2db5635",
   "metadata": {},
   "source": [
    "# # Assignment-Sql"
   ]
  },
  {
   "cell_type": "code",
   "execution_count": 1,
   "id": "9a8ced87",
   "metadata": {},
   "outputs": [],
   "source": [
    "import mysql.connector as connector\n",
    "from mysql.connector import Error\n",
    "def getDBConnection():\n",
    "    try:\n",
    "        mysqlobj=connector.connect(host='localhost',database='travelling',user='root',password='mypass')\n",
    "        print(type(mysqlobj))\n",
    "        if(mysqlobj.is_connected()):\n",
    "            print('connection achieved succefully with mysql server ',mysqlobj.get_server_version())\n",
    "            crs=mysqlobj.cursor()\n",
    "            print(type(crs))\n",
    "            print('Cursor created..') \n",
    "    except Error as e:\n",
    "        print(e)\n",
    "        print('some problem while connecting with Db')\n",
    "    else:\n",
    "        print('connection establish suceesfully....')\n",
    "    return mysqlobj,crs\n",
    "\n",
    "def FetAllRecords():\n",
    "    connection=' '\n",
    "    cursor=' '\n",
    "    try:\n",
    "        connection,cursor=getDBConnection()\n",
    "        cursor.execute('select * from items')\n",
    "        record=cursor.fetchall()\n",
    "        print('itemid       |   iname             |   cost             |  supid')\n",
    "        for i in record:\n",
    "            print(i[0],'        ',i[1],'               ',i[2],'            ',i[3])\n",
    "    except Error as e:\n",
    "        print (e)\n",
    "        print('problem in fetching the data....')\n",
    "    finally:\n",
    "        cursor.close()\n",
    "        connection.close()\n",
    "        print('Connection closed successfully....')"
   ]
  },
  {
   "cell_type": "code",
   "execution_count": 71,
   "id": "a5140248",
   "metadata": {},
   "outputs": [],
   "source": [
    "#1.Write a Python program to create a table in database with name item(item Id,Item Name,Item cost,supplier id)\n",
    "def create():\n",
    "        connection=' '\n",
    "        cursor=' '\n",
    "        try:\n",
    "            connection,cursor=getDBConnection()\n",
    "            crs.execute('create table items (itemid int,iname varchar(25),cost int,supid int)')\n",
    "            record=crs.fetchall()\n",
    "            connection.commit()\n",
    "                \n",
    "        except Error as e:\n",
    "            print(e)\n",
    "            print('some problem while connecting with Db')\n",
    "        else:\n",
    "            print('connection establish suceesfully....')\n",
    "        finally:\n",
    "            crs.close()\n",
    "            mysqlobj.close()\n",
    "            print('DB Connection closed!')\n"
   ]
  },
  {
   "cell_type": "code",
   "execution_count": 45,
   "id": "58d047da",
   "metadata": {},
   "outputs": [],
   "source": [
    "#2.Write a Python program to insert 5 records in table by accepting data from user\n",
    "def insert():\n",
    "    connection=' '\n",
    "    cursor=' '\n",
    "    try:\n",
    "            connection,cursor=getDBConnection()\n",
    "            record='''insert into items (itemid,iname,cost,supid) values (%s,%s,%s,%s)'''\n",
    "            records_to_insert = [(4, 'smartwatch', 1999, 2),\n",
    "                             (5, 'pizza', 570, 1),\n",
    "                             (6, 'bagpack', 2330, 2),(1,'burger',190,4),(3,'icecream',20,4)]\n",
    "            cursor.executemany(record,records_to_insert)\n",
    "            connection.commit()\n",
    "            print(cursor.rowcount, \"Record inserted successfully into items table\")\n",
    "    except Error as e:\n",
    "            print (e)\n",
    "            print('problem in fetching the data....')\n",
    "    finally:\n",
    "            cursor.close()\n",
    "            connection.close()\n",
    "            print('Connection closed successfully....')\n"
   ]
  },
  {
   "cell_type": "code",
   "execution_count": 157,
   "id": "d36cebd0",
   "metadata": {},
   "outputs": [
    {
     "name": "stdout",
     "output_type": "stream",
     "text": [
      "<class 'mysql.connector.connection_cext.CMySQLConnection'>\n",
      "connection achieved succefully with mysql server  (8, 0, 27)\n",
      "<class 'mysql.connector.cursor_cext.CMySQLCursor'>\n",
      "Cursor created..\n",
      "connection establish suceesfully....\n",
      "itemid       |   iname             |   cost             |  supid\n",
      "4          smartwatch                 2999              2\n",
      "5          pizza                 570              1\n",
      "6          bagpack                 3330              2\n",
      "1          burger                 190              4\n",
      "3          icecream                 20              4\n",
      "11          books                 3000              2\n",
      "12          laptop                 50000              6\n",
      "13          tab                 20000              4\n",
      "Connection closed successfully....\n"
     ]
    }
   ],
   "source": [
    "FetAllRecords()\n",
    "#insert(11,'books',2000,2)\n",
    "#insert(12,'laptop',50000,6)\n",
    "#insert(13,'tab',20000,4)"
   ]
  },
  {
   "cell_type": "code",
   "execution_count": 46,
   "id": "c40dabf8",
   "metadata": {},
   "outputs": [],
   "source": [
    "#3.Write a Python program to delete item records with item name you specified \n",
    "def DeleteRow(iname):\n",
    "    connection=' '\n",
    "    cursor=' '\n",
    "    try:\n",
    "        connection,cursor=getDBConnection()\n",
    "        t1=(iname,)\n",
    "        cursor.execute('delete from items where iname=%s',t1)\n",
    "        connection.commit()\n",
    "    except Error as e:\n",
    "        print (e)\n",
    "        print('problem in fetching the data....')\n",
    "    finally:\n",
    "        cursor.close()\n",
    "        connection.close()\n",
    "        print('Connection closed successfully....')"
   ]
  },
  {
   "cell_type": "code",
   "execution_count": 48,
   "id": "89e308d7",
   "metadata": {},
   "outputs": [
    {
     "name": "stdout",
     "output_type": "stream",
     "text": [
      "<class 'mysql.connector.connection_cext.CMySQLConnection'>\n",
      "connection achieved succefully with mysql server  (8, 0, 27)\n",
      "<class 'mysql.connector.cursor_cext.CMySQLCursor'>\n",
      "Cursor created..\n",
      "connection establish suceesfully....\n",
      "itemid       |   iname             |   cost             |  supid\n",
      "4          smartwatch                 1999              2\n",
      "5          pizza                 570              1\n",
      "6          bagpack                 2330              2\n",
      "1          burger                 190              4\n",
      "11          books                 2000              2\n",
      "12          laptop                 50000              6\n",
      "13          tab                 20000              4\n",
      "Connection closed successfully....\n"
     ]
    }
   ],
   "source": [
    "#DeleteRow('icecream')\n",
    "FetAllRecords()"
   ]
  },
  {
   "cell_type": "code",
   "execution_count": 18,
   "id": "a948c509",
   "metadata": {},
   "outputs": [],
   "source": [
    "#4.Write a Python program to show records with cost between 1000 to 4450\n",
    "def Recorditems():\n",
    "    connection=' '\n",
    "    cursor=' '\n",
    "    try:\n",
    "        connection,cursor=getDBConnection()\n",
    "        cursor=connection.cursor(buffered=True)\n",
    "        cursor.execute('select * from items where items.cost between 1000 and 4450')\n",
    "        record=cursor.fetchall()\n",
    "        print('itemid       |   iname             |   cost             |  supid')\n",
    "        for i in record:\n",
    "            print(i[0],'        ',i[1],'               ',i[2],'            ',i[3])\n",
    "        connection.commit()\n",
    "    except Error as e:\n",
    "        print (e)\n",
    "        print('problem in fetching the data....')\n",
    "    finally:\n",
    "        cursor.close()\n",
    "        connection.close()\n",
    "        print('Connection closed successfully....')"
   ]
  },
  {
   "cell_type": "code",
   "execution_count": 19,
   "id": "817a2952",
   "metadata": {},
   "outputs": [
    {
     "name": "stdout",
     "output_type": "stream",
     "text": [
      "<class 'mysql.connector.connection_cext.CMySQLConnection'>\n",
      "connection achieved succefully with mysql server  (8, 0, 27)\n",
      "<class 'mysql.connector.cursor_cext.CMySQLCursor'>\n",
      "Cursor created..\n",
      "connection establish suceesfully....\n",
      "itemid       |   iname             |   cost             |  supid\n",
      "4          smartwatch                 2999              2\n",
      "6          bagpack                 3330              2\n",
      "11          books                 3000              2\n",
      "Connection closed successfully....\n"
     ]
    }
   ],
   "source": [
    "Recorditems()"
   ]
  },
  {
   "cell_type": "code",
   "execution_count": 43,
   "id": "8a1b9f9a",
   "metadata": {},
   "outputs": [],
   "source": [
    "#5.\tWrite a Python program to increase cost of item by 2000 , which are supplied by supplier id 120\n",
    "def update():\n",
    "    connection=' '\n",
    "    cursor=' '\n",
    "    try:\n",
    "        connection,cursor=getDBConnection()\n",
    "        cursor.execute('update items set items.cost=items.cost+2000 where supid=2')\n",
    "        record=cursor.fetchall()\n",
    "        connection.commit()\n",
    "    except Error as e:\n",
    "        print (e)\n",
    "        print('problem in fetching the data....')\n",
    "    finally:\n",
    "        cursor.close()\n",
    "        connection.close()\n",
    "        print('Connection closed successfully....')\n"
   ]
  },
  {
   "cell_type": "code",
   "execution_count": 41,
   "id": "68e89fd3",
   "metadata": {},
   "outputs": [
    {
     "name": "stdout",
     "output_type": "stream",
     "text": [
      "<class 'mysql.connector.connection_cext.CMySQLConnection'>\n",
      "connection achieved succefully with mysql server  (8, 0, 27)\n",
      "<class 'mysql.connector.cursor_cext.CMySQLCursor'>\n",
      "Cursor created..\n",
      "connection establish suceesfully....\n",
      "Connection closed successfully....\n"
     ]
    }
   ],
   "source": [
    "update()"
   ]
  },
  {
   "cell_type": "code",
   "execution_count": 49,
   "id": "21304e15",
   "metadata": {},
   "outputs": [
    {
     "name": "stdout",
     "output_type": "stream",
     "text": [
      "<class 'mysql.connector.connection_cext.CMySQLConnection'>\n",
      "connection achieved succefully with mysql server  (8, 0, 27)\n",
      "<class 'mysql.connector.cursor_cext.CMySQLCursor'>\n",
      "Cursor created..\n",
      "connection establish suceesfully....\n",
      "itemid       |   iname             |   cost             |  supid\n",
      "4          smartwatch                 1999              2\n",
      "5          pizza                 570              1\n",
      "6          bagpack                 2330              2\n",
      "1          burger                 190              4\n",
      "11          books                 2000              2\n",
      "12          laptop                 50000              6\n",
      "13          tab                 20000              4\n",
      "Connection closed successfully....\n"
     ]
    }
   ],
   "source": [
    "FetAllRecords()"
   ]
  },
  {
   "cell_type": "code",
   "execution_count": 13,
   "id": "3cab48af",
   "metadata": {},
   "outputs": [],
   "source": [
    "#6.Write a Python program  to fetch all itemId and itemname as key values pairs \n",
    "def Itemdetails():\n",
    "    connection=' '\n",
    "    cursor=' '\n",
    "    try:\n",
    "        connection,cursor=getDBConnection()\n",
    "        cursor.execute('select itemid,iname from items')\n",
    "        record=cursor.fetchall()\n",
    "        for i in record:\n",
    "                print(i)\n",
    "        connection.commit()\n",
    "    except Error as e:\n",
    "        print (e)\n",
    "        print('problem in fetching the data....')\n",
    "    finally:\n",
    "        cursor.close()\n",
    "        connection.close()\n",
    "        print('Connection closed successfully....')\n"
   ]
  },
  {
   "cell_type": "code",
   "execution_count": 14,
   "id": "f9b71666",
   "metadata": {},
   "outputs": [
    {
     "name": "stdout",
     "output_type": "stream",
     "text": [
      "<class 'mysql.connector.connection_cext.CMySQLConnection'>\n",
      "connection achieved succefully with mysql server  (8, 0, 27)\n",
      "<class 'mysql.connector.cursor_cext.CMySQLCursor'>\n",
      "Cursor created..\n",
      "connection establish suceesfully....\n",
      "(4, 'smartwatch')\n",
      "(5, 'pizza')\n",
      "(6, 'bagpack')\n",
      "(1, 'burger')\n",
      "(11, 'books')\n",
      "(12, 'laptop')\n",
      "(13, 'tab')\n",
      "Connection closed successfully....\n"
     ]
    }
   ],
   "source": [
    "Itemdetails()"
   ]
  }
 ],
 "metadata": {
  "kernelspec": {
   "display_name": "Python 3 (ipykernel)",
   "language": "python",
   "name": "python3"
  },
  "language_info": {
   "codemirror_mode": {
    "name": "ipython",
    "version": 3
   },
   "file_extension": ".py",
   "mimetype": "text/x-python",
   "name": "python",
   "nbconvert_exporter": "python",
   "pygments_lexer": "ipython3",
   "version": "3.9.7"
  }
 },
 "nbformat": 4,
 "nbformat_minor": 5
}
